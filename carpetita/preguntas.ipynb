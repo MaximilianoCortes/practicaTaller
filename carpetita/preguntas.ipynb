{
 "cells": [
  {
   "cell_type": "markdown",
   "metadata": {},
   "source": [
    "## Información General\n",
    "1. **¿Cuántas categorías de trabajos hay en el dataset?**\n",
    "2. **¿Cuántos trabajos hay en total en el dataset?**\n",
    "3. **¿Cuál es la categoría con más ofertas de trabajo?**\n",
    "4. **¿Cuál es la categoría con menos ofertas de trabajo?**"
   ]
  },
  {
   "cell_type": "code",
   "execution_count": null,
   "metadata": {},
   "outputs": [],
   "source": [
    "import pandas as pd\n",
    "\n",
    "# Cargar el archivo CSV en un DataFrame\n",
    "df = pd.read_csv('../data/all_jobs_data.csv')"
   ]
  },
  {
   "cell_type": "markdown",
   "metadata": {},
   "source": [
    "## Detalles por Trabajo\n",
    "5. **¿Cuáles son los títulos de todos los trabajos en la categoría de 'Programming'?**\n",
    "6. **¿Qué porcentaje de trabajos requieren experiencia en 'Remote' o 'Hybrid' en comparación con los trabajos presenciales?**\n",
    "7. **¿Cuáles son las tres habilidades más comúnmente solicitadas en la categoría de 'Data Science / Analytics'?**\n",
    "8. **¿Cuál es el rango salarial más alto ofrecido y en qué trabajo se ofrece?**\n",
    "9. **¿Cuáles son las empresas que publicaron más de una oferta de trabajo en el dataset?**"
   ]
  },
  {
   "cell_type": "code",
   "execution_count": null,
   "metadata": {},
   "outputs": [],
   "source": [
    "import pandas as pd\n",
    "\n",
    "# Cargar el archivo CSV en un DataFrame\n",
    "df = pd.read_csv('../data/all_jobs_data.csv')"
   ]
  },
  {
   "cell_type": "markdown",
   "metadata": {},
   "source": [
    "## Ubicación y Modalidad\n",
    "10. **¿Cuántos trabajos permiten modalidad remota?**\n",
    "11. **¿Cuántos trabajos están ubicados en cada país?**\n",
    "12. **¿Cuáles trabajos son específicos para la ciudad de Lima?**"
   ]
  },
  {
   "cell_type": "code",
   "execution_count": null,
   "metadata": {},
   "outputs": [],
   "source": [
    "import pandas as pd\n",
    "\n",
    "# Cargar el archivo CSV en un DataFrame\n",
    "df = pd.read_csv('../data/all_jobs_data.csv')"
   ]
  },
  {
   "cell_type": "markdown",
   "metadata": {},
   "source": [
    "## Beneficios y Condiciones\n",
    "13. **¿Cuáles son los beneficios más comunes ofrecidos en los trabajos?**\n",
    "14. **¿Qué porcentaje de trabajos ofrece más días de vacaciones que lo legal?**\n",
    "15. **¿Cuántos trabajos ofrecen beneficios relacionados con la salud (como seguro de salud o dental)?**"
   ]
  },
  {
   "cell_type": "code",
   "execution_count": null,
   "metadata": {},
   "outputs": [],
   "source": [
    "import pandas as pd\n",
    "\n",
    "# Cargar el archivo CSV en un DataFrame\n",
    "df = pd.read_csv('../data/all_jobs_data.csv')"
   ]
  },
  {
   "cell_type": "markdown",
   "metadata": {},
   "source": [
    "## Requerimientos y Habilidades\n",
    "16. **¿Cuáles son los requisitos más comunes para los trabajos en 'SysAdmin / DevOps / QA'?**\n",
    "17. **¿Cuáles trabajos requieren certificaciones específicas (como PL-300 para Power BI)?**\n",
    "18. **¿Qué porcentaje de trabajos requiere un nivel avanzado de inglés?**\n"
   ]
  },
  {
   "cell_type": "code",
   "execution_count": null,
   "metadata": {},
   "outputs": [],
   "source": [
    "import pandas as pd\n",
    "\n",
    "# Cargar el archivo CSV en un DataFrame\n",
    "df = pd.read_csv('../data/all_jobs_data.csv')"
   ]
  },
  {
   "cell_type": "markdown",
   "metadata": {},
   "source": [
    "## Análisis Temporal\n",
    "19. **¿Cuántos trabajos se publicaron en el último mes?**\n",
    "20. **¿Cuál es el tiempo promedio de respuesta a las aplicaciones de trabajo?**\n",
    "21. **¿Cuáles trabajos tienen la mayor cantidad de aplicaciones hasta la fecha?**"
   ]
  },
  {
   "cell_type": "code",
   "execution_count": null,
   "metadata": {},
   "outputs": [],
   "source": [
    "import pandas as pd\n",
    "\n",
    "# Cargar el archivo CSV en un DataFrame\n",
    "df = pd.read_csv('../data/all_jobs_data.csv')"
   ]
  },
  {
   "cell_type": "markdown",
   "metadata": {},
   "source": [
    "## Detalles por Empresa\n",
    "22. **¿Cuántas empresas diferentes están representadas en el dataset?**\n",
    "23. **¿Cuál es la empresa con más ofertas de trabajo publicadas?**\n",
    "24. **¿Cuáles empresas ofrecen trabajo en modalidad híbrida?**"
   ]
  },
  {
   "cell_type": "code",
   "execution_count": null,
   "metadata": {},
   "outputs": [],
   "source": [
    "import pandas as pd\n",
    "\n",
    "# Cargar el archivo CSV en un DataFrame\n",
    "df = pd.read_csv('../data/all_jobs_data.csv')"
   ]
  },
  {
   "cell_type": "markdown",
   "metadata": {},
   "source": [
    "## Especialización\n",
    "25. **¿Cuántos trabajos requieren experiencia previa específica en la industria (por ejemplo, agrícola, ciberseguridad)?**\n",
    "26. **¿Qué porcentaje de trabajos de 'Sales' requieren experiencia en ventas técnicas?**\n",
    "27. **¿Cuáles trabajos en 'Design / UX' requieren experiencia en herramientas específicas como Figma o Adobe Illustrator?**"
   ]
  },
  {
   "cell_type": "code",
   "execution_count": null,
   "metadata": {},
   "outputs": [],
   "source": [
    "import pandas as pd\n",
    "\n",
    "# Cargar el archivo CSV en un DataFrame\n",
    "df = pd.read_csv('../data/all_jobs_data.csv')"
   ]
  },
  {
   "cell_type": "markdown",
   "metadata": {},
   "source": [
    "## Análisis Comparativo\n",
    "28. **¿Cuáles categorías tienen los mayores y menores rangos salariales?**\n",
    "29. **¿Qué habilidades o tecnologías son más solicitadas en trabajos remotos en comparación con los trabajos presenciales?**\n",
    "30. **¿Cómo varían los beneficios ofrecidos entre las diferentes categorías de trabajo?**"
   ]
  },
  {
   "cell_type": "code",
   "execution_count": null,
   "metadata": {},
   "outputs": [],
   "source": [
    "import pandas as pd\n",
    "\n",
    "# Cargar el archivo CSV en un DataFrame\n",
    "df = pd.read_csv('../data/all_jobs_data.csv')"
   ]
  }
 ],
 "metadata": {
  "language_info": {
   "name": "python"
  }
 },
 "nbformat": 4,
 "nbformat_minor": 2
}
