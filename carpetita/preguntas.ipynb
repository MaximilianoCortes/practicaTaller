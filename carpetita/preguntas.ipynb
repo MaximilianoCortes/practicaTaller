{
 "cells": [
  {
   "cell_type": "markdown",
   "metadata": {},
   "source": [
    "## Información General\n",
    "1. **¿Cuántas categorías de trabajos hay en el dataset?**\n",
    "2. **¿Cuántos trabajos hay en total en el dataset?**\n",
    "3. **¿Cuál es la categoría con más ofertas de trabajo?**\n",
    "4. **¿Cuál es la categoría con menos ofertas de trabajo?**"
   ]
  },
  {
   "cell_type": "code",
   "execution_count": 6,
   "metadata": {},
   "outputs": [
    {
     "name": "stdout",
     "output_type": "stream",
     "text": [
      "Categorías únicas:\n",
      "Content, Advertising & Media\n",
      "Customer Support\n",
      "Cybersecurity\n",
      "Data Science / Analytics\n",
      "Design / UX\n",
      "Digital Marketing\n",
      "Education & Coaching\n",
      "Hardware / Electronics\n",
      "Machine Learning & AI\n",
      "Mobile Development\n",
      "Operations / Admin\n",
      "Other categories\n",
      "People & HR\n",
      "Product, Innovation & Agile\n",
      "Programming\n",
      "Sales\n",
      "SysAdmin / DevOps / QA\n",
      "Technical Support\n",
      "\n",
      "#1 Total de categorías únicas: 18\n",
      "\n",
      "Número de ofertas por categoría:\n",
      "category\n",
      "Programming                     362\n",
      "SysAdmin / DevOps / QA          137\n",
      "Sales                            62\n",
      "Data Science / Analytics         60\n",
      "Operations / Admin               51\n",
      "Product, Innovation & Agile      50\n",
      "Mobile Development               38\n",
      "Design / UX                      35\n",
      "Digital Marketing                35\n",
      "Customer Support                 33\n",
      "Cybersecurity                    20\n",
      "Technical Support                12\n",
      "Machine Learning & AI            12\n",
      "Content, Advertising & Media     11\n",
      "People & HR                      10\n",
      "Other categories                  9\n",
      "Hardware / Electronics            5\n",
      "Education & Coaching              2\n",
      "Name: count, dtype: int64\n",
      "\n",
      "#2 Total de ofertas de trabajo: 944\n",
      "\n",
      "#3 La categoría con más ofertas de trabajo es 'Programming' con 362 ofertas.\n",
      "#4 La categoría con menos ofertas de trabajo es 'Education & Coaching' con 2 ofertas.\n"
     ]
    }
   ],
   "source": [
    "import pandas as pd\n",
    "\n",
    "# Cargar el archivo CSV en un DataFrame\n",
    "df = pd.read_csv('../data/all_jobs_data.csv')\n",
    "\n",
    "# Pregunta 1\n",
    "unique_categories = sorted(df['category'].unique())\n",
    "\n",
    "\n",
    "print(\"Categorías únicas:\")\n",
    "for category in unique_categories:\n",
    "    print(category)\n",
    "print(f\"\\n#1 Total de categorías únicas: {len(unique_categories)}\")\n",
    "\n",
    "# Pregunta 2\n",
    "job_counts = df['category'].value_counts()\n",
    "\n",
    "print(\"\\nNúmero de ofertas por categoría:\")\n",
    "print(job_counts)\n",
    "print(f\"\\n#2 Total de ofertas de trabajo: {job_counts.sum()}\")\n",
    "\n",
    "# Pregunta 3\n",
    "most_jobs_category = job_counts.idxmax()\n",
    "most_jobs_count = job_counts.max()\n",
    "print(f\"\\n#3 La categoría con más ofertas de trabajo es '{most_jobs_category}' con {most_jobs_count} ofertas.\")\n",
    "\n",
    "# Pregunta 4\n",
    "least_jobs_category = job_counts.idxmin()\n",
    "least_jobs_count = job_counts.min()\n",
    "print(f\"#4 La categoría con menos ofertas de trabajo es '{least_jobs_category}' con {least_jobs_count} ofertas.\")\n"
   ]
  },
  {
   "cell_type": "markdown",
   "metadata": {},
   "source": [
    "## Detalles por Trabajo\n",
    "5. **¿Cuáles son los títulos de todos los trabajos en la categoría de 'Programming'?**\n",
    "6. **¿Qué porcentaje de trabajos requieren experiencia en 'Remote' o 'Hybrid' en comparación con los trabajos presenciales?**\n",
    "7. **¿Cuáles son las tres habilidades más comúnmente solicitadas en la categoría de 'Data Science / Analytics'?**\n",
    "8. **¿Cuál es el rango salarial más alto ofrecido y en qué trabajo se ofrece?**\n",
    "9. **¿Cuáles son las empresas que publicaron más de una oferta de trabajo en el dataset?**"
   ]
  },
  {
   "cell_type": "code",
   "execution_count": null,
   "metadata": {},
   "outputs": [],
   "source": [
    "import pandas as pd\n",
    "\n",
    "# Cargar el archivo CSV en un DataFrame\n",
    "df = pd.read_csv('../data/all_jobs_data.csv')"
   ]
  },
  {
   "cell_type": "markdown",
   "metadata": {},
   "source": [
    "## Ubicación y Modalidad\n",
    "10. **¿Cuántos trabajos permiten modalidad remota?**\n",
    "11. **¿Cuántos trabajos están ubicados en cada país?**\n",
    "12. **¿Cuáles trabajos son específicos para la ciudad de Lima?**"
   ]
  },
  {
   "cell_type": "code",
   "execution_count": null,
   "metadata": {},
   "outputs": [],
   "source": [
    "import pandas as pd\n",
    "\n",
    "# Cargar el archivo CSV en un DataFrame\n",
    "df = pd.read_csv('../data/all_jobs_data.csv')"
   ]
  },
  {
   "cell_type": "markdown",
   "metadata": {},
   "source": [
    "## Beneficios y Condiciones\n",
    "13. **¿Cuáles son los beneficios más comunes ofrecidos en los trabajos?**\n",
    "14. **¿Qué porcentaje de trabajos ofrece más días de vacaciones que lo legal?**\n",
    "15. **¿Cuántos trabajos ofrecen beneficios relacionados con la salud (como seguro de salud o dental)?**"
   ]
  },
  {
   "cell_type": "code",
   "execution_count": null,
   "metadata": {},
   "outputs": [],
   "source": [
    "import pandas as pd\n",
    "\n",
    "# Cargar el archivo CSV en un DataFrame\n",
    "df = pd.read_csv('../data/all_jobs_data.csv')"
   ]
  },
  {
   "cell_type": "markdown",
   "metadata": {},
   "source": [
    "## Requerimientos y Habilidades\n",
    "16. **¿Cuáles son los requisitos más comunes para los trabajos en 'SysAdmin / DevOps / QA'?**\n",
    "17. **¿Cuáles trabajos requieren certificaciones específicas (como PL-300 para Power BI)?**\n",
    "18. **¿Qué porcentaje de trabajos requiere un nivel avanzado de inglés?**\n"
   ]
  },
  {
   "cell_type": "code",
   "execution_count": null,
   "metadata": {},
   "outputs": [],
   "source": [
    "import pandas as pd\n",
    "\n",
    "# Cargar el archivo CSV en un DataFrame\n",
    "df = pd.read_csv('../data/all_jobs_data.csv')"
   ]
  },
  {
   "cell_type": "markdown",
   "metadata": {},
   "source": [
    "## Análisis Temporal\n",
    "19. **¿Cuántos trabajos se publicaron en el último mes?**\n",
    "20. **¿Cuál es el tiempo promedio de respuesta a las aplicaciones de trabajo?**\n",
    "21. **¿Cuáles trabajos tienen la mayor cantidad de aplicaciones hasta la fecha?**"
   ]
  },
  {
   "cell_type": "code",
   "execution_count": null,
   "metadata": {},
   "outputs": [],
   "source": [
    "import pandas as pd\n",
    "\n",
    "# Cargar el archivo CSV en un DataFrame\n",
    "df = pd.read_csv('../data/all_jobs_data.csv')"
   ]
  },
  {
   "cell_type": "markdown",
   "metadata": {},
   "source": [
    "## Detalles por Empresa\n",
    "22. **¿Cuántas empresas diferentes están representadas en el dataset?**\n",
    "23. **¿Cuál es la empresa con más ofertas de trabajo publicadas?**\n",
    "24. **¿Cuáles empresas ofrecen trabajo en modalidad híbrida?**"
   ]
  },
  {
   "cell_type": "code",
   "execution_count": null,
   "metadata": {},
   "outputs": [],
   "source": [
    "import pandas as pd\n",
    "\n",
    "# Cargar el archivo CSV en un DataFrame\n",
    "df = pd.read_csv('../data/all_jobs_data.csv')"
   ]
  },
  {
   "cell_type": "markdown",
   "metadata": {},
   "source": [
    "## Especialización\n",
    "25. **¿Cuántos trabajos requieren experiencia previa específica en la industria (por ejemplo, agrícola, ciberseguridad)?**\n",
    "26. **¿Qué porcentaje de trabajos de 'Sales' requieren experiencia en ventas técnicas?**\n",
    "27. **¿Cuáles trabajos en 'Design / UX' requieren experiencia en herramientas específicas como Figma o Adobe Illustrator?**"
   ]
  },
  {
   "cell_type": "code",
   "execution_count": null,
   "metadata": {},
   "outputs": [],
   "source": [
    "import pandas as pd\n",
    "\n",
    "# Cargar el archivo CSV en un DataFrame\n",
    "df = pd.read_csv('../data/all_jobs_data.csv')"
   ]
  },
  {
   "cell_type": "markdown",
   "metadata": {},
   "source": [
    "## Análisis Comparativo\n",
    "28. **¿Cuáles categorías tienen los mayores y menores rangos salariales?**\n",
    "29. **¿Qué habilidades o tecnologías son más solicitadas en trabajos remotos en comparación con los trabajos presenciales?**\n",
    "30. **¿Cómo varían los beneficios ofrecidos entre las diferentes categorías de trabajo?**"
   ]
  },
  {
   "cell_type": "code",
   "execution_count": null,
   "metadata": {},
   "outputs": [],
   "source": [
    "import pandas as pd\n",
    "\n",
    "# Cargar el archivo CSV en un DataFrame\n",
    "df = pd.read_csv('../data/all_jobs_data.csv')"
   ]
  }
 ],
 "metadata": {
  "kernelspec": {
   "display_name": "base",
   "language": "python",
   "name": "python3"
  },
  "language_info": {
   "codemirror_mode": {
    "name": "ipython",
    "version": 3
   },
   "file_extension": ".py",
   "mimetype": "text/x-python",
   "name": "python",
   "nbconvert_exporter": "python",
   "pygments_lexer": "ipython3",
   "version": "3.10.14"
  }
 },
 "nbformat": 4,
 "nbformat_minor": 2
}
